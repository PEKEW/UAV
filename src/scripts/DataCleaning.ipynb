{
 "cells": [
  {
   "cell_type": "markdown",
   "metadata": {},
   "source": [
    "## dataset info"
   ]
  },
  {
   "cell_type": "code",
   "execution_count": 3,
   "metadata": {},
   "outputs": [],
   "source": [
    "import pandas as pd\n",
    "import numpy as np\n",
    "import zipfile\n",
    "import os\n",
    "from pathlib import Path\n",
    "from tqdm import tqdm"
   ]
  },
  {
   "cell_type": "code",
   "execution_count": 4,
   "metadata": {},
   "outputs": [
    {
     "data": {
      "text/plain": [
       "PosixPath('../Datasets/EVTOL')"
      ]
     },
     "execution_count": 4,
     "metadata": {},
     "output_type": "execute_result"
    }
   ],
   "source": [
    "data_dir = Path('../Datasets/')\n",
    "zip_file = data_dir / 'EVTOL.zip'\n",
    "extract_dir = data_dir / 'EVTOL'\n",
    "\n",
    "if not extract_dir.exists():\n",
    "    with zipfile.ZipFile(zip_file, 'r') as zip_ref:\n",
    "        zip_ref.extractall(extract_dir)\n",
    "else: # if the directory exists, skip the extraction\n",
    "    pass\n",
    "\n",
    "files = list(extract_dir.glob('*.csv'))\n",
    "# files\n",
    "extract_dir"
   ]
  },
  {
   "cell_type": "markdown",
   "metadata": {},
   "source": [
    "## base info for 1st csv"
   ]
  },
  {
   "cell_type": "code",
   "execution_count": 5,
   "metadata": {},
   "outputs": [
    {
     "name": "stdout",
     "output_type": "stream",
     "text": [
      "Base info for ../Datasets/EVTOL/VAH07.csv:\n",
      "Number of rows: 205487\n",
      "Number of columns: 10\n",
      "Column names: ['time_s', 'Ecell_V', 'I_mA', 'EnergyCharge_W_h', 'QCharge_mA_h', 'EnergyDischarge_W_h', 'QDischarge_mA_h', 'Temperature__C', 'cycleNumber', 'Ns']\n",
      "Data types: time_s                 float64\n",
      "Ecell_V                float64\n",
      "I_mA                   float64\n",
      "EnergyCharge_W_h       float64\n",
      "QCharge_mA_h           float64\n",
      "EnergyDischarge_W_h    float64\n",
      "QDischarge_mA_h        float64\n",
      "Temperature__C         float64\n",
      "cycleNumber              int64\n",
      "Ns                       int64\n",
      "dtype: object\n"
     ]
    }
   ],
   "source": [
    "test_csv = files[0]\n",
    "df = pd.read_csv(test_csv)\n",
    "print(f\"Base info for {test_csv}:\")\n",
    "print(f\"Number of rows: {df.shape[0]}\")\n",
    "print(f\"Number of columns: {df.shape[1]}\")\n",
    "print(f\"Column names: {df.columns.tolist()}\")\n",
    "print(f\"Data types: {df.dtypes}\")\n",
    "\n"
   ]
  },
  {
   "cell_type": "code",
   "execution_count": 6,
   "metadata": {},
   "outputs": [
    {
     "name": "stderr",
     "output_type": "stream",
     "text": [
      "  0%|          | 0/22 [00:00<?, ?it/s]"
     ]
    },
    {
     "name": "stderr",
     "output_type": "stream",
     "text": [
      "  5%|▍         | 1/22 [00:00<00:02,  9.33it/s]"
     ]
    },
    {
     "name": "stdout",
     "output_type": "stream",
     "text": [
      "VAH07.csv\n",
      "VAH25.csv\n"
     ]
    },
    {
     "name": "stderr",
     "output_type": "stream",
     "text": [
      "  9%|▉         | 2/22 [00:00<00:03,  6.40it/s]"
     ]
    },
    {
     "name": "stdout",
     "output_type": "stream",
     "text": [
      "VAH12.csv\n"
     ]
    },
    {
     "name": "stderr",
     "output_type": "stream",
     "text": [
      " 14%|█▎        | 3/22 [00:00<00:07,  2.50it/s]"
     ]
    },
    {
     "name": "stdout",
     "output_type": "stream",
     "text": [
      "VAH23.csv\n"
     ]
    },
    {
     "name": "stderr",
     "output_type": "stream",
     "text": [
      " 18%|█▊        | 4/22 [00:01<00:06,  2.86it/s]"
     ]
    },
    {
     "name": "stdout",
     "output_type": "stream",
     "text": [
      "VAH09.csv\n"
     ]
    },
    {
     "name": "stderr",
     "output_type": "stream",
     "text": [
      " 23%|██▎       | 5/22 [00:01<00:05,  3.05it/s]"
     ]
    },
    {
     "name": "stdout",
     "output_type": "stream",
     "text": [
      "VAH17.csv\n"
     ]
    },
    {
     "name": "stderr",
     "output_type": "stream",
     "text": [
      " 32%|███▏      | 7/22 [00:02<00:04,  3.70it/s]"
     ]
    },
    {
     "name": "stdout",
     "output_type": "stream",
     "text": [
      "VAH15.csv\n",
      "VAH06.csv\n"
     ]
    },
    {
     "name": "stderr",
     "output_type": "stream",
     "text": [
      " 36%|███▋      | 8/22 [00:02<00:04,  3.16it/s]"
     ]
    },
    {
     "name": "stdout",
     "output_type": "stream",
     "text": [
      "VAH01.csv\n"
     ]
    },
    {
     "name": "stderr",
     "output_type": "stream",
     "text": [
      " 41%|████      | 9/22 [00:02<00:05,  2.55it/s]"
     ]
    },
    {
     "name": "stdout",
     "output_type": "stream",
     "text": [
      "VAH05.csv\n"
     ]
    },
    {
     "name": "stderr",
     "output_type": "stream",
     "text": [
      " 45%|████▌     | 10/22 [00:03<00:04,  2.42it/s]"
     ]
    },
    {
     "name": "stdout",
     "output_type": "stream",
     "text": [
      "VAH13.csv\n"
     ]
    },
    {
     "name": "stderr",
     "output_type": "stream",
     "text": [
      " 55%|█████▍    | 12/22 [00:03<00:03,  3.30it/s]"
     ]
    },
    {
     "name": "stdout",
     "output_type": "stream",
     "text": [
      "VAH27.csv\n",
      "VAH20.csv\n"
     ]
    },
    {
     "name": "stderr",
     "output_type": "stream",
     "text": [
      " 59%|█████▉    | 13/22 [00:04<00:02,  3.85it/s]"
     ]
    },
    {
     "name": "stdout",
     "output_type": "stream",
     "text": [
      "VAH10.csv\n"
     ]
    },
    {
     "name": "stderr",
     "output_type": "stream",
     "text": [
      " 64%|██████▎   | 14/22 [00:04<00:02,  3.27it/s]"
     ]
    },
    {
     "name": "stdout",
     "output_type": "stream",
     "text": [
      "VAH11.csv\n"
     ]
    },
    {
     "name": "stderr",
     "output_type": "stream",
     "text": [
      " 68%|██████▊   | 15/22 [00:05<00:02,  2.48it/s]"
     ]
    },
    {
     "name": "stdout",
     "output_type": "stream",
     "text": [
      "VAH26.csv\n"
     ]
    },
    {
     "name": "stderr",
     "output_type": "stream",
     "text": [
      " 73%|███████▎  | 16/22 [00:05<00:02,  2.74it/s]"
     ]
    },
    {
     "name": "stdout",
     "output_type": "stream",
     "text": [
      "VAH28.csv\n"
     ]
    },
    {
     "name": "stderr",
     "output_type": "stream",
     "text": [
      " 82%|████████▏ | 18/22 [00:05<00:01,  3.42it/s]"
     ]
    },
    {
     "name": "stdout",
     "output_type": "stream",
     "text": [
      "VAH22.csv\n",
      "VAH16.csv\n"
     ]
    },
    {
     "name": "stderr",
     "output_type": "stream",
     "text": [
      " 86%|████████▋ | 19/22 [00:05<00:00,  3.99it/s]"
     ]
    },
    {
     "name": "stdout",
     "output_type": "stream",
     "text": [
      "VAH02.csv\n"
     ]
    },
    {
     "name": "stderr",
     "output_type": "stream",
     "text": [
      " 91%|█████████ | 20/22 [00:06<00:00,  3.09it/s]"
     ]
    },
    {
     "name": "stdout",
     "output_type": "stream",
     "text": [
      "VAH24.csv\n"
     ]
    },
    {
     "name": "stderr",
     "output_type": "stream",
     "text": [
      " 95%|█████████▌| 21/22 [00:06<00:00,  3.13it/s]"
     ]
    },
    {
     "name": "stdout",
     "output_type": "stream",
     "text": [
      "VAH30.csv\n"
     ]
    },
    {
     "name": "stderr",
     "output_type": "stream",
     "text": [
      "100%|██████████| 22/22 [00:07<00:00,  3.12it/s]\n"
     ]
    }
   ],
   "source": [
    "#  根据reamdme的描述，标记异常数据\n",
    "anomalies = {\n",
    "\"VAH05\": [1000],\n",
    "\"VAH09\": [64, 92, 154, 691],\n",
    "\"VAH10\": [248, 631, 735, 1151],\n",
    "\"VAH11\": [817, 1898],\n",
    "\"VAH13\": [816, 817],\n",
    "\"VAH25\": [461, 462],\n",
    "\"VAH26\": [872, 873],\n",
    "\"VAH27\": [20, 256, 257, 585],\n",
    "\"VAH28\": [256, 257, 619, 620, 1066, 1067],\n",
    "}\n",
    "all_abnormal_df = []\n",
    "all_normal_df = []\n",
    "all_data = []\n",
    "for file_name in tqdm(files):\n",
    "    file_id = file_name.name.split(\"_\")[-1].replace(\".csv\", \"\")\n",
    "    df = pd.read_csv(file_name)\n",
    "    df[\"cycleNumber\"] = pd.to_numeric(df[\"cycleNumber\"], errors=\"coerce\").astype(\"Int64\")\n",
    "    df[\"FileID\"] = file_id\n",
    "    \n",
    "    if file_id in anomalies:\n",
    "        bad_cycles = anomalies[file_id]\n",
    "        # 异常数据\n",
    "        abnormal_df = df[df[\"cycleNumber\"].isin(bad_cycles)].copy()\n",
    "        abnormal_df[\"is_abnormal\"] = True\n",
    "        \n",
    "        # 正常数据（同一文件中的其他cycle）\n",
    "        normal_df = df[~df[\"cycleNumber\"].isin(bad_cycles)].copy()  \n",
    "        normal_df[\"is_abnormal\"] = False\n",
    "        \n",
    "        all_data.extend([abnormal_df, normal_df])\n",
    "    else:\n",
    "        # 全部正常数据\n",
    "        normal_df = df.copy()\n",
    "        normal_df[\"is_abnormal\"] = False\n",
    "        all_data.append(normal_df)\n",
    "combined_df = pd.concat(all_data, ignore_index=True)\n"
   ]
  }
 ],
 "metadata": {
  "kernelspec": {
   "display_name": "battery",
   "language": "python",
   "name": "python3"
  },
  "language_info": {
   "codemirror_mode": {
    "name": "ipython",
    "version": 3
   },
   "file_extension": ".py",
   "mimetype": "text/x-python",
   "name": "python",
   "nbconvert_exporter": "python",
   "pygments_lexer": "ipython3",
   "version": "3.11.6"
  }
 },
 "nbformat": 4,
 "nbformat_minor": 2
}
