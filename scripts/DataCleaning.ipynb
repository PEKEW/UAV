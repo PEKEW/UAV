{
 "cells": [
  {
   "cell_type": "markdown",
   "metadata": {},
   "source": [
    "## dataset info"
   ]
  },
  {
   "cell_type": "code",
   "execution_count": 17,
   "metadata": {},
   "outputs": [],
   "source": [
    "import pandas as pd\n",
    "import numpy as np\n",
    "import zipfile\n",
    "import os\n",
    "from pathlib import Path\n",
    "from tqdm import tqdm"
   ]
  },
  {
   "cell_type": "code",
   "execution_count": 24,
   "metadata": {},
   "outputs": [
    {
     "data": {
      "text/plain": [
       "PosixPath('../Datasets/EVTOL')"
      ]
     },
     "execution_count": 24,
     "metadata": {},
     "output_type": "execute_result"
    }
   ],
   "source": [
    "data_dir = Path('../Datasets/')\n",
    "zip_file = data_dir / 'EVTOL.zip'\n",
    "extract_dir = data_dir / 'EVTOL'\n",
    "\n",
    "if not extract_dir.exists():\n",
    "    with zipfile.ZipFile(zip_file, 'r') as zip_ref:\n",
    "        zip_ref.extractall(extract_dir)\n",
    "else: # if the directory exists, skip the extraction\n",
    "    pass\n",
    "\n",
    "files = list(extract_dir.glob('*.csv'))\n",
    "# files\n",
    "extract_dir"
   ]
  },
  {
   "cell_type": "markdown",
   "metadata": {},
   "source": [
    "## base info for 1st csv"
   ]
  },
  {
   "cell_type": "code",
   "execution_count": 19,
   "metadata": {},
   "outputs": [
    {
     "name": "stdout",
     "output_type": "stream",
     "text": [
      "Base info for ../Datasets/EVTOL/VAH07.csv:\n",
      "Number of rows: 205487\n",
      "Number of columns: 10\n",
      "Column names: ['time_s', 'Ecell_V', 'I_mA', 'EnergyCharge_W_h', 'QCharge_mA_h', 'EnergyDischarge_W_h', 'QDischarge_mA_h', 'Temperature__C', 'cycleNumber', 'Ns']\n",
      "Data types: time_s                 float64\n",
      "Ecell_V                float64\n",
      "I_mA                   float64\n",
      "EnergyCharge_W_h       float64\n",
      "QCharge_mA_h           float64\n",
      "EnergyDischarge_W_h    float64\n",
      "QDischarge_mA_h        float64\n",
      "Temperature__C         float64\n",
      "cycleNumber              int64\n",
      "Ns                       int64\n",
      "dtype: object\n"
     ]
    }
   ],
   "source": [
    "test_csv = files[0]\n",
    "df = pd.read_csv(test_csv)\n",
    "print(f\"Base info for {test_csv}:\")\n",
    "print(f\"Number of rows: {df.shape[0]}\")\n",
    "print(f\"Number of columns: {df.shape[1]}\")\n",
    "print(f\"Column names: {df.columns.tolist()}\")\n",
    "print(f\"Data types: {df.dtypes}\")\n",
    "\n"
   ]
  },
  {
   "cell_type": "code",
   "execution_count": 41,
   "metadata": {},
   "outputs": [
    {
     "name": "stderr",
     "output_type": "stream",
     "text": [
      "  0%|          | 0/22 [00:00<?, ?it/s]"
     ]
    },
    {
     "name": "stdout",
     "output_type": "stream",
     "text": [
      "VAH07.csv\n",
      "VAH25.csv\n"
     ]
    },
    {
     "name": "stderr",
     "output_type": "stream",
     "text": [
      "  9%|▉         | 2/22 [00:00<00:02,  8.51it/s]"
     ]
    },
    {
     "name": "stdout",
     "output_type": "stream",
     "text": [
      "VAH12.csv\n"
     ]
    },
    {
     "name": "stderr",
     "output_type": "stream",
     "text": [
      " 18%|█▊        | 4/22 [00:00<00:04,  3.93it/s]"
     ]
    },
    {
     "name": "stdout",
     "output_type": "stream",
     "text": [
      "VAH23.csv\n",
      "VAH09.csv\n"
     ]
    },
    {
     "name": "stderr",
     "output_type": "stream",
     "text": [
      " 23%|██▎       | 5/22 [00:01<00:04,  3.87it/s]"
     ]
    },
    {
     "name": "stdout",
     "output_type": "stream",
     "text": [
      "VAH17.csv\n"
     ]
    },
    {
     "name": "stderr",
     "output_type": "stream",
     "text": [
      " 32%|███▏      | 7/22 [00:01<00:03,  4.64it/s]"
     ]
    },
    {
     "name": "stdout",
     "output_type": "stream",
     "text": [
      "VAH15.csv\n",
      "VAH06.csv\n"
     ]
    },
    {
     "name": "stderr",
     "output_type": "stream",
     "text": [
      " 36%|███▋      | 8/22 [00:01<00:03,  4.13it/s]"
     ]
    },
    {
     "name": "stdout",
     "output_type": "stream",
     "text": [
      "VAH01.csv\n"
     ]
    },
    {
     "name": "stderr",
     "output_type": "stream",
     "text": [
      " 41%|████      | 9/22 [00:02<00:03,  3.28it/s]"
     ]
    },
    {
     "name": "stdout",
     "output_type": "stream",
     "text": [
      "VAH05.csv\n"
     ]
    },
    {
     "name": "stderr",
     "output_type": "stream",
     "text": [
      " 45%|████▌     | 10/22 [00:02<00:03,  3.04it/s]"
     ]
    },
    {
     "name": "stdout",
     "output_type": "stream",
     "text": [
      "VAH13.csv\n"
     ]
    },
    {
     "name": "stderr",
     "output_type": "stream",
     "text": [
      " 55%|█████▍    | 12/22 [00:03<00:02,  3.95it/s]"
     ]
    },
    {
     "name": "stdout",
     "output_type": "stream",
     "text": [
      "VAH27.csv\n",
      "VAH20.csv\n"
     ]
    },
    {
     "name": "stderr",
     "output_type": "stream",
     "text": [
      " 59%|█████▉    | 13/22 [00:03<00:01,  4.53it/s]"
     ]
    },
    {
     "name": "stdout",
     "output_type": "stream",
     "text": [
      "VAH10.csv\n"
     ]
    },
    {
     "name": "stderr",
     "output_type": "stream",
     "text": [
      " 64%|██████▎   | 14/22 [00:03<00:02,  3.85it/s]"
     ]
    },
    {
     "name": "stdout",
     "output_type": "stream",
     "text": [
      "VAH11.csv\n"
     ]
    },
    {
     "name": "stderr",
     "output_type": "stream",
     "text": [
      " 68%|██████▊   | 15/22 [00:04<00:02,  2.88it/s]"
     ]
    },
    {
     "name": "stdout",
     "output_type": "stream",
     "text": [
      "VAH26.csv\n"
     ]
    },
    {
     "name": "stderr",
     "output_type": "stream",
     "text": [
      " 73%|███████▎  | 16/22 [00:04<00:02,  3.00it/s]"
     ]
    },
    {
     "name": "stdout",
     "output_type": "stream",
     "text": [
      "VAH28.csv\n"
     ]
    },
    {
     "name": "stderr",
     "output_type": "stream",
     "text": [
      " 82%|████████▏ | 18/22 [00:04<00:01,  3.69it/s]"
     ]
    },
    {
     "name": "stdout",
     "output_type": "stream",
     "text": [
      "VAH22.csv\n",
      "VAH16.csv\n"
     ]
    },
    {
     "name": "stderr",
     "output_type": "stream",
     "text": [
      " 86%|████████▋ | 19/22 [00:05<00:00,  4.39it/s]"
     ]
    },
    {
     "name": "stdout",
     "output_type": "stream",
     "text": [
      "VAH02.csv\n"
     ]
    },
    {
     "name": "stderr",
     "output_type": "stream",
     "text": [
      " 91%|█████████ | 20/22 [00:05<00:00,  3.64it/s]"
     ]
    },
    {
     "name": "stdout",
     "output_type": "stream",
     "text": [
      "VAH24.csv\n"
     ]
    },
    {
     "name": "stderr",
     "output_type": "stream",
     "text": [
      " 95%|█████████▌| 21/22 [00:05<00:00,  3.78it/s]"
     ]
    },
    {
     "name": "stdout",
     "output_type": "stream",
     "text": [
      "VAH30.csv\n"
     ]
    },
    {
     "name": "stderr",
     "output_type": "stream",
     "text": [
      "100%|██████████| 22/22 [00:05<00:00,  3.73it/s]\n"
     ]
    },
    {
     "data": {
      "text/html": [
       "<div>\n",
       "<style scoped>\n",
       "    .dataframe tbody tr th:only-of-type {\n",
       "        vertical-align: middle;\n",
       "    }\n",
       "\n",
       "    .dataframe tbody tr th {\n",
       "        vertical-align: top;\n",
       "    }\n",
       "\n",
       "    .dataframe thead th {\n",
       "        text-align: right;\n",
       "    }\n",
       "</style>\n",
       "<table border=\"1\" class=\"dataframe\">\n",
       "  <thead>\n",
       "    <tr style=\"text-align: right;\">\n",
       "      <th></th>\n",
       "      <th>time_s</th>\n",
       "      <th>Ecell_V</th>\n",
       "      <th>I_mA</th>\n",
       "      <th>EnergyCharge_W_h</th>\n",
       "      <th>QCharge_mA_h</th>\n",
       "      <th>EnergyDischarge_W_h</th>\n",
       "      <th>QDischarge_mA_h</th>\n",
       "      <th>Temperature__C</th>\n",
       "      <th>cycleNumber</th>\n",
       "      <th>Ns</th>\n",
       "      <th>FileID</th>\n",
       "      <th>is_abnormal</th>\n",
       "      <th>cycle_length</th>\n",
       "    </tr>\n",
       "  </thead>\n",
       "  <tbody>\n",
       "    <tr>\n",
       "      <th>55508</th>\n",
       "      <td>4.474443e+05</td>\n",
       "      <td>3.762047</td>\n",
       "      <td>3002.8000</td>\n",
       "      <td>0.093796</td>\n",
       "      <td>24.932184</td>\n",
       "      <td>0.000000</td>\n",
       "      <td>0.000000</td>\n",
       "      <td>25.431843</td>\n",
       "      <td>64</td>\n",
       "      <td>0</td>\n",
       "      <td>VAH09</td>\n",
       "      <td>True</td>\n",
       "      <td>1545</td>\n",
       "    </tr>\n",
       "    <tr>\n",
       "      <th>55509</th>\n",
       "      <td>4.474743e+05</td>\n",
       "      <td>3.779857</td>\n",
       "      <td>3003.1938</td>\n",
       "      <td>0.188434</td>\n",
       "      <td>49.969750</td>\n",
       "      <td>0.000000</td>\n",
       "      <td>0.000000</td>\n",
       "      <td>25.416067</td>\n",
       "      <td>64</td>\n",
       "      <td>0</td>\n",
       "      <td>VAH09</td>\n",
       "      <td>True</td>\n",
       "      <td>1545</td>\n",
       "    </tr>\n",
       "    <tr>\n",
       "      <th>55510</th>\n",
       "      <td>4.475043e+05</td>\n",
       "      <td>3.791875</td>\n",
       "      <td>3004.7703</td>\n",
       "      <td>0.283375</td>\n",
       "      <td>75.007521</td>\n",
       "      <td>0.000000</td>\n",
       "      <td>0.000000</td>\n",
       "      <td>25.550154</td>\n",
       "      <td>64</td>\n",
       "      <td>0</td>\n",
       "      <td>VAH09</td>\n",
       "      <td>True</td>\n",
       "      <td>1545</td>\n",
       "    </tr>\n",
       "    <tr>\n",
       "      <th>55511</th>\n",
       "      <td>4.475343e+05</td>\n",
       "      <td>3.802396</td>\n",
       "      <td>3005.3611</td>\n",
       "      <td>0.378577</td>\n",
       "      <td>100.045087</td>\n",
       "      <td>0.000000</td>\n",
       "      <td>0.000000</td>\n",
       "      <td>26.023399</td>\n",
       "      <td>64</td>\n",
       "      <td>0</td>\n",
       "      <td>VAH09</td>\n",
       "      <td>True</td>\n",
       "      <td>1545</td>\n",
       "    </tr>\n",
       "    <tr>\n",
       "      <th>55512</th>\n",
       "      <td>4.475643e+05</td>\n",
       "      <td>3.812759</td>\n",
       "      <td>3004.1792</td>\n",
       "      <td>0.474040</td>\n",
       "      <td>125.082692</td>\n",
       "      <td>0.000000</td>\n",
       "      <td>0.000000</td>\n",
       "      <td>25.897202</td>\n",
       "      <td>64</td>\n",
       "      <td>0</td>\n",
       "      <td>VAH09</td>\n",
       "      <td>True</td>\n",
       "      <td>1545</td>\n",
       "    </tr>\n",
       "    <tr>\n",
       "      <th>...</th>\n",
       "      <td>...</td>\n",
       "      <td>...</td>\n",
       "      <td>...</td>\n",
       "      <td>...</td>\n",
       "      <td>...</td>\n",
       "      <td>...</td>\n",
       "      <td>...</td>\n",
       "      <td>...</td>\n",
       "      <td>...</td>\n",
       "      <td>...</td>\n",
       "      <td>...</td>\n",
       "      <td>...</td>\n",
       "      <td>...</td>\n",
       "    </tr>\n",
       "    <tr>\n",
       "      <th>908417</th>\n",
       "      <td>1.145801e+07</td>\n",
       "      <td>3.489152</td>\n",
       "      <td>0.0000</td>\n",
       "      <td>7.525902</td>\n",
       "      <td>0.000000</td>\n",
       "      <td>-6.235343</td>\n",
       "      <td>1864.631031</td>\n",
       "      <td>33.745472</td>\n",
       "      <td>248</td>\n",
       "      <td>7</td>\n",
       "      <td>VAH10</td>\n",
       "      <td>True</td>\n",
       "      <td>1047</td>\n",
       "    </tr>\n",
       "    <tr>\n",
       "      <th>908418</th>\n",
       "      <td>1.145804e+07</td>\n",
       "      <td>3.489230</td>\n",
       "      <td>0.0000</td>\n",
       "      <td>7.525902</td>\n",
       "      <td>0.000000</td>\n",
       "      <td>-6.235343</td>\n",
       "      <td>1864.631031</td>\n",
       "      <td>33.501129</td>\n",
       "      <td>248</td>\n",
       "      <td>7</td>\n",
       "      <td>VAH10</td>\n",
       "      <td>True</td>\n",
       "      <td>1047</td>\n",
       "    </tr>\n",
       "    <tr>\n",
       "      <th>908419</th>\n",
       "      <td>1.145807e+07</td>\n",
       "      <td>3.489664</td>\n",
       "      <td>0.0000</td>\n",
       "      <td>7.525902</td>\n",
       "      <td>0.000000</td>\n",
       "      <td>-6.235343</td>\n",
       "      <td>1864.631031</td>\n",
       "      <td>33.548420</td>\n",
       "      <td>248</td>\n",
       "      <td>7</td>\n",
       "      <td>VAH10</td>\n",
       "      <td>True</td>\n",
       "      <td>1047</td>\n",
       "    </tr>\n",
       "    <tr>\n",
       "      <th>908420</th>\n",
       "      <td>1.145810e+07</td>\n",
       "      <td>3.489782</td>\n",
       "      <td>0.0000</td>\n",
       "      <td>7.525902</td>\n",
       "      <td>0.000000</td>\n",
       "      <td>-6.235343</td>\n",
       "      <td>1864.631031</td>\n",
       "      <td>33.264668</td>\n",
       "      <td>248</td>\n",
       "      <td>7</td>\n",
       "      <td>VAH10</td>\n",
       "      <td>True</td>\n",
       "      <td>1047</td>\n",
       "    </tr>\n",
       "    <tr>\n",
       "      <th>908421</th>\n",
       "      <td>1.145813e+07</td>\n",
       "      <td>3.490018</td>\n",
       "      <td>0.0000</td>\n",
       "      <td>7.525902</td>\n",
       "      <td>0.000000</td>\n",
       "      <td>-6.235343</td>\n",
       "      <td>1864.631031</td>\n",
       "      <td>33.390781</td>\n",
       "      <td>248</td>\n",
       "      <td>7</td>\n",
       "      <td>VAH10</td>\n",
       "      <td>True</td>\n",
       "      <td>1047</td>\n",
       "    </tr>\n",
       "  </tbody>\n",
       "</table>\n",
       "<p>5403 rows × 13 columns</p>\n",
       "</div>"
      ],
      "text/plain": [
       "              time_s   Ecell_V       I_mA  EnergyCharge_W_h  QCharge_mA_h  \\\n",
       "55508   4.474443e+05  3.762047  3002.8000          0.093796     24.932184   \n",
       "55509   4.474743e+05  3.779857  3003.1938          0.188434     49.969750   \n",
       "55510   4.475043e+05  3.791875  3004.7703          0.283375     75.007521   \n",
       "55511   4.475343e+05  3.802396  3005.3611          0.378577    100.045087   \n",
       "55512   4.475643e+05  3.812759  3004.1792          0.474040    125.082692   \n",
       "...              ...       ...        ...               ...           ...   \n",
       "908417  1.145801e+07  3.489152     0.0000          7.525902      0.000000   \n",
       "908418  1.145804e+07  3.489230     0.0000          7.525902      0.000000   \n",
       "908419  1.145807e+07  3.489664     0.0000          7.525902      0.000000   \n",
       "908420  1.145810e+07  3.489782     0.0000          7.525902      0.000000   \n",
       "908421  1.145813e+07  3.490018     0.0000          7.525902      0.000000   \n",
       "\n",
       "        EnergyDischarge_W_h  QDischarge_mA_h  Temperature__C  cycleNumber  Ns  \\\n",
       "55508              0.000000         0.000000       25.431843           64   0   \n",
       "55509              0.000000         0.000000       25.416067           64   0   \n",
       "55510              0.000000         0.000000       25.550154           64   0   \n",
       "55511              0.000000         0.000000       26.023399           64   0   \n",
       "55512              0.000000         0.000000       25.897202           64   0   \n",
       "...                     ...              ...             ...          ...  ..   \n",
       "908417            -6.235343      1864.631031       33.745472          248   7   \n",
       "908418            -6.235343      1864.631031       33.501129          248   7   \n",
       "908419            -6.235343      1864.631031       33.548420          248   7   \n",
       "908420            -6.235343      1864.631031       33.264668          248   7   \n",
       "908421            -6.235343      1864.631031       33.390781          248   7   \n",
       "\n",
       "       FileID  is_abnormal  cycle_length  \n",
       "55508   VAH09         True          1545  \n",
       "55509   VAH09         True          1545  \n",
       "55510   VAH09         True          1545  \n",
       "55511   VAH09         True          1545  \n",
       "55512   VAH09         True          1545  \n",
       "...       ...          ...           ...  \n",
       "908417  VAH10         True          1047  \n",
       "908418  VAH10         True          1047  \n",
       "908419  VAH10         True          1047  \n",
       "908420  VAH10         True          1047  \n",
       "908421  VAH10         True          1047  \n",
       "\n",
       "[5403 rows x 13 columns]"
      ]
     },
     "execution_count": 41,
     "metadata": {},
     "output_type": "execute_result"
    }
   ],
   "source": [
    "#  根据reamdme的描述，标记异常数据\n",
    "anomalies = {\n",
    "    \"VAH05\": [1000],\n",
    "    \"VAH09\": [64, 92, 154, 691],\n",
    "    \"VAH10\": [248, 631, 735, 1151],\n",
    "    \"VAH11\": [817, 1898],\n",
    "    \"VAH13\": [816, 817],\n",
    "    \"VAH25\": [461, 462],\n",
    "    \"VAH26\": [872, 873],\n",
    "    \"VAH27\": [20, 256, 257, 585],\n",
    "    \"VAH28\": [256, 257, 619, 620, 1066, 1067],\n",
    "}\n",
    "all_abnormal_df = []\n",
    "for file_name in tqdm(files):\n",
    "    print(file_name.name)\n",
    "    file_id = file_name.name.split(\"_\")[-1].replace(\".csv\", \"\")\n",
    "    df = pd.read_csv(file_name)\n",
    "    df[\"cycleNumber\"] = pd.to_numeric(df[\"cycleNumber\"], errors=\"coerce\").astype(\"Int64\")\n",
    "    if file_id in anomalies:\n",
    "        bad_cycles = anomalies[file_id]\n",
    "        abnormal_df = df[df[\"cycleNumber\"].isin(bad_cycles)].copy()\n",
    "        abnormal_df[\"FileID\"] = file_id\n",
    "        # extra label for abnormal data\n",
    "        abnormal_df[\"is_abnormal\"] = True\n",
    "        abnormal_df[\"cycle_length\"] = abnormal_df.groupby([\"FileID\", \"cycleNumber\"])[\"cycleNumber\"].transform(\"count\")\n",
    "        all_abnormal_df.append(abnormal_df)\n",
    "    else:\n",
    "        pass\n",
    "all_abnormal_df = pd.concat(all_abnormal_df)\n",
    "all_abnormal_df.to_csv(\"abnormal_data.csv\", index=False)\n",
    "all_abnormal_df"
   ]
  }
 ],
 "metadata": {
  "kernelspec": {
   "display_name": "battery",
   "language": "python",
   "name": "python3"
  },
  "language_info": {
   "codemirror_mode": {
    "name": "ipython",
    "version": 3
   },
   "file_extension": ".py",
   "mimetype": "text/x-python",
   "name": "python",
   "nbconvert_exporter": "python",
   "pygments_lexer": "ipython3",
   "version": "3.11.6"
  }
 },
 "nbformat": 4,
 "nbformat_minor": 2
}
